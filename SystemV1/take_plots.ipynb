{
 "cells": [
  {
   "cell_type": "code",
   "execution_count": null,
   "metadata": {},
   "outputs": [],
   "source": [
    "import numpy as np\n",
    "import matplotlib.pyplot as plt\n",
    "from local_contributor_config import problem_folder\n",
    "from Plotting.plot_semi_latex import *"
   ]
  },
  {
   "cell_type": "code",
   "execution_count": null,
   "metadata": {},
   "outputs": [],
   "source": [
    "path_to_plots = r'C:/gr_latex/diploma/pictures'"
   ]
  },
  {
   "cell_type": "markdown",
   "metadata": {},
   "source": [
    "Выделение инсулина на ввод пищи:\n",
    "1. на белок\n",
    "2. на жир\n",
    "3. на глюкозу\n",
    "4. суммарно"
   ]
  },
  {
   "cell_type": "code",
   "execution_count": null,
   "metadata": {},
   "outputs": [],
   "source": [
    "from F_vec import *\n",
    "from scipy.integrate import odeint\n",
    "from myo_supportfs import *\n",
    "from Plotting.myplt import *\n",
    "from pprint import pprint\n",
    "from scipy.integrate import ode,solve_ivp\n",
    "from euler import euler_solver\n",
    "\n",
    "\n",
    "index_by_name, name_by_index, start_point = get_start_point_names_mapping(start_point_dict)\n",
    "# start_point = 0.1+ 10*np.random.rand(len(start_point))\n",
    "start_point[index_by_name['AA_ef']] = 1.0\n",
    "start_point[index_by_name['FFA_ef']] = 1.0\n",
    "start_point[index_by_name['KB_ef']] = 1.0\n",
    "start_point[index_by_name['Glu_ef']] = 1.0\n",
    "start_point[index_by_name['INS']] = 0.0\n",
    "\n",
    "\n",
    "J_flow_carb_vs = J_flow_carb_func.values\n",
    "J_flow_prot_vs = J_flow_prot_func.values\n",
    "J_flow_fat_vs  = J_flow_fat_func.values \n",
    "\n",
    "\n",
    "INS_on_grid = np.zeros(shape=(len(time_grid), ),dtype=np.float32)\n",
    "INS_AUC_w_on_grid = np.zeros(shape=(len(time_grid), ),dtype=np.float32)\n",
    "INS_on_grid[0] = start_point[index_by_name['INS']]\n",
    "T_a_on_grid = np.zeros(shape=(len(time_grid), ),dtype=np.float32)\n",
    "INS_AUC_w_on_grid[0] = 0.0\n",
    "T_a_on_grid[0]= 0.0\n",
    "last_seen_time = np.zeros(shape=(1,),dtype=np.float32)\n",
    "last_seen_time[0] = t_0\n",
    "last_time_pos = np.zeros(shape=(1,),dtype=np.intc)\n",
    "last_time_pos[0] = 0\n",
    "\n",
    "def F_wrapped(t, y):\n",
    "    return F_vec(t,y,INS_on_grid,INS_AUC_w_on_grid,T_a_on_grid,last_seen_time,last_time_pos,\n",
    "                 J_flow_carb_vs,\n",
    "                    J_flow_prot_vs,\n",
    "                    J_flow_fat_vs)\n",
    "\n",
    "solver = ode(f=F_wrapped,jac=None)\n",
    "solver.set_initial_value(y=start_point,t=t_0)\n",
    "# solver_type = 'lsoda'\n",
    "# solver_type = 'dopri5'\n",
    "solver_type = 'vode'\n",
    "solver.set_integrator(solver_type) \n",
    "solutions = np.zeros(shape=(len(time_grid),len(start_point)),dtype=np.float32)\n",
    "solutions[0,:] = solver.y\n",
    "i_=  1\n",
    "while solver.successful() and solver.t < t_end:\n",
    "    solutions[i_,:] = solver.integrate(solver.t+tau_grid)\n",
    "    i_ += 1 \n",
    "print('last solver time step {} target last step {}'.format(i_, len(time_grid)-1))\n",
    "time_sol = time_grid\n",
    "\n",
    "print(solutions.shape)\n",
    "print(time_sol.shape)    "
   ]
  },
  {
   "cell_type": "code",
   "execution_count": null,
   "metadata": {},
   "outputs": [],
   "source": [
    "Fat_flow =  np.array([J_flow_fat_func(t) for t in  time_sol])\n",
    "Prot_flow = np.array([J_flow_prot_func(t) for t in time_sol])\n",
    "Carb_flow = np.array([J_flow_carb_func(t) for t in time_sol])"
   ]
  },
  {
   "cell_type": "code",
   "execution_count": null,
   "metadata": {},
   "outputs": [],
   "source": [
    "INS_vec = solutions[:,index_by_name['INS']]\n",
    "t_vec = time_sol\n",
    "fig,ax = plt.subplots()\n",
    "\n",
    "ax.plot(t_vec,INS_vec,label = r'$[INS]_{ef}$',c='k',linewidth= 5)\n",
    "\n",
    "x_ticks = np.arange(np.min(t_vec),np.max(t_vec), 300)\n",
    "x_labels = [latex_float(tick,0) for tick in x_ticks]\n",
    "y_ticks = np.arange(np.min(INS_vec),np.max(INS_vec)+3, 3)\n",
    "y_labels = [latex_float(tick,0) for tick in y_ticks]\n",
    "ax.set_xlim(x_ticks[0],x_ticks[-1])\n",
    "ax.set_ylim(y_ticks[0],y_ticks[-1])\n",
    "ax.set_xticks(x_ticks)\n",
    "ax.set_yticks(y_ticks)\n",
    "ax.set_xticklabels(x_labels)\n",
    "ax.set_yticklabels(y_labels)\n",
    "ax.set_xlabel(r'$t,мин$',fontsize = 30)\n",
    "ax.set_ylabel(r'$[INS]_{ef}, ммоль$',fontsize = 30)\n",
    "ax2 = ax.twinx()\n",
    "y2 =Fat_flow+Carb_flow+Prot_flow\n",
    "y2[np.argwhere(y2==0.0)]=0.0\n",
    "\n",
    "ax2.plot(time_sol,y2,c='b',linewidth= 3)\n",
    "\n",
    "# J_{[TG]_{pl}}^{+}+J_{[Glu]_{ef}}^{+}+J_{[AA]_{ef}}^{+},ммоль \\cdot c^{-1}\n",
    "ax2.set_ylabel(r'$J_{\\Sigma}^{+},ммоль \\cdot c^{-1}$',color='b',fontsize = 30)\n",
    "y2_ticks = np.arange(np.min(y2),np.max(y2)+0.5, 0.5)\n",
    "y2_labels = [latex_float(tick,1) for tick in y2_ticks]\n",
    "ax2.set_yticks(y2_ticks)\n",
    "ax2.set_yticklabels(y2_labels,color='b')\n",
    "ax.tick_params(axis='both', which='major', labelsize=15)\n",
    "ax2.tick_params(axis='both', which='major', labelsize=15)\n",
    "ax2.set_ylim(y2_ticks[0],y2_ticks[-1])\n",
    "# ax2.plot(time_sol,Carb_flow,label=r'$J_{[Glu]_{ef}}^{+}$')\n",
    "# ax2.plot(time_sol,Prot_flow,label=r'$J_{[AA]_{ef}}^{+}$')\n",
    "# leg1 = ax.legend(prop = { \"size\": 14 }, loc =\"upper left\",bbox_to_anchor=(1.04, 1.03))\n",
    "# leg1 = ax2.legend(prop = { \"size\": 14 }, loc =\"upper left\",bbox_to_anchor=(1.04, 0.8))"
   ]
  },
  {
   "cell_type": "code",
   "execution_count": null,
   "metadata": {},
   "outputs": [],
   "source": []
  },
  {
   "cell_type": "code",
   "execution_count": null,
   "metadata": {},
   "outputs": [],
   "source": []
  },
  {
   "cell_type": "markdown",
   "metadata": {},
   "source": [
    "Выделение инсулина в ответ на концентрацию глюкозы в крови.  (Ввод пищи только в вену, без кишечника)"
   ]
  },
  {
   "cell_type": "code",
   "execution_count": null,
   "metadata": {},
   "outputs": [],
   "source": []
  },
  {
   "cell_type": "markdown",
   "metadata": {},
   "source": [
    "Показать график БМР. поток выходящей энергии- постоянный. При этом компоненты БМР могут меняться (во время еды, ночью и тп), а сумма выходящей энергии в единицу времени - всё рвно постоянная."
   ]
  },
  {
   "cell_type": "code",
   "execution_count": null,
   "metadata": {},
   "outputs": [],
   "source": []
  }
 ],
 "metadata": {
  "kernelspec": {
   "display_name": "ml",
   "language": "python",
   "name": "ml"
  },
  "language_info": {
   "codemirror_mode": {
    "name": "ipython",
    "version": 3
   },
   "file_extension": ".py",
   "mimetype": "text/x-python",
   "name": "python",
   "nbconvert_exporter": "python",
   "pygments_lexer": "ipython3",
   "version": "3.11.5"
  },
  "orig_nbformat": 4
 },
 "nbformat": 4,
 "nbformat_minor": 2
}
