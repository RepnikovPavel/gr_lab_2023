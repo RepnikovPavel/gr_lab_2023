{
 "cells": [
  {
   "cell_type": "code",
   "execution_count": null,
   "metadata": {},
   "outputs": [],
   "source": [
    "import numpy as np\n",
    "import numba \n",
    "from sysv1_de_config import F_carb\n",
    "from sysv1_de_config import F_fat\n",
    "from sysv1_de_config import F_prot\n",
    "from sysv1_de_config import sigmoid\n",
    "from input import *\n",
    "import torch\n",
    "from local_contributor_config import problem_folder\n"
   ]
  },
  {
   "cell_type": "markdown",
   "metadata": {},
   "source": [
    "chunk - это $i$-й прием пищи. далее нижний индекс $ch$, принадлежность этому приему пищи, опускаается  \n",
    "для большинства букв с целью разгрузки записи.  \n",
    "$a,b$ - начало и конец $i$-го приема пищи.  \n",
    "$\\Delta t$ - малый шаг интегрирования системы.  \n",
    "$\\tau$ - время задержки до начала абсорбции $i$-го приема пищи.  \n",
    "$T$ - максимальная длительность абсорбции $i$-го приема пищи.  \n",
    "$\\rho$ - скорость поступления пищи. размерность $[\\frac{грамм}{мин}]$.  \n",
    "$V_{total}^{absorbtion}$ - скорость абсорбции для выбранного вещества. размерность $[\\frac{ммоль}{литр*мин}]$.  \n",
    "$V_{ch}^{absorbtion}$ - скорость абсорбции для $i$-го приема пищи. размерность $[\\frac{ммоль}{литр*мин}]$.  \n",
    "скорость абсорбции ограничена, поэтому я ее разделил на число кусочков пищи, абсорбирующихся в текущий момент.  \n",
    "$\\frac{\\alpha}{V_{system}}$ - перевод единиц из $[грамм]$ в $[\\frac{ммоль}{литр}]$.  \n",
    "$\\alpha = 9.0 [\\frac{ммоль}{грамм}]$  \n",
    "$V_{system}= 1.0 [литр]$  \n",
    "$\\tau=30 [мин]$  \n",
    "$T = 480 [мин]$  \n",
    "\n",
    "\n",
    "\\begin{equation}\n",
    "J_{ch}(t) =\n",
    "    \\begin{cases}\n",
    "      0,t< a   \\\\\n",
    "      \\frac{\\alpha}{V_{system}} \\int_{a}^{t}{\\rho(t^{'})dt^{'}}, t \\in [a,b+\\tau] \\\\\n",
    "      \\max(J_{ch}(t-\\Delta t) - V_{ch}^{absorbtion}(t) \\Delta t,0),t \\in (b+\\tau,b+\\tau+T] \\\\\n",
    "      0, t> b+\\tau+T\n",
    "    \\end{cases}\n",
    "\\end{equation}  \n",
    "\n",
    "$$\n",
    "V_{ch}^{absorbtion}(t) = \\frac{V_{total}^{absorbtion}}{\\sum_{i=1}^{N_{chunks}(t)}{[ H(t-(b+\\tau))H((b+\\tau+T)-t) = 1]}}\n",
    "$$"
   ]
  },
  {
   "cell_type": "markdown",
   "metadata": {},
   "source": [
    "перекачка в $[AA]$:\n",
    "$$\n",
    "\\frac{d}{dt}[AA] = ... - \\sum_{i=1}^{N_{chunks}(t)}H(t-(b_{ch}+\\tau_{ch}))H((b_{ch}+\\tau_{ch}+T_{ch})-t)\\frac{d}{dt}{J_{ch}}\n",
    "$$\n",
    "в $[AA]$ попадает ровно столько, сколько убыло из $J_{total}$ в момент абсорбции."
   ]
  },
  {
   "cell_type": "code",
   "execution_count": null,
   "metadata": {},
   "outputs": [],
   "source": [
    "tau_grid = 0.1 # [min]\n",
    "t_0 = 0.0 # [min]\n",
    "t_end = 6000.0 # [min]\n",
    "\n",
    "\n",
    "# make input data\n",
    "\n",
    "diet_table_path =r'C:\\grlab\\data\\diet_Mikhail.xlsx'\n",
    "diet_data = read_diet(diet_table_path)\n",
    "F_carb_chunks,F_carb = make_Fcarb(diet_data)\n",
    "F_prot_chunks,F_prot = make_Fprot(diet_data)\n",
    "F_fat_chunks,F_fat  = make_Ffat(diet_data)\n",
    "\n",
    "J_s_prot = J_sum(V_total=float(90/60),tau=tau_grid) # [ммоль/мин]\n",
    "for i in range(len(F_prot_chunks)):\n",
    "    ch_ = F_prot_chunks[i]\n",
    "    J_s_prot.add_J_ch(ch_.t1,ch_.t2,delta_t = tau_grid,tau=30.0,T=480.0,rho=ch_.rho,alpha=10.0,volume=1.0)\n",
    "\n",
    "J_s_fat = J_sum_with_infinit_v() # [ммоль/мин]\n",
    "for i in range(len(F_prot_chunks)):\n",
    "    ch_ = F_fat_chunks[i]\n",
    "    J_s_fat.add_J_ch(ch_.t1,ch_.t2,delta_t = tau_grid,tau=30.0,T=300.0,rho=ch_.rho,alpha=1.239,volume=1.0)\n",
    "\n",
    "J_s_carb = J_sum_with_infinit_v() # [ммоль/мин]\n",
    "for i in range(len(F_prot_chunks)):\n",
    "    ch_ = F_carb_chunks[i]\n",
    "    J_s_carb.add_J_ch(ch_.t1,ch_.t2,delta_t = tau_grid,tau=30.0,T=120.0,rho=ch_.rho,alpha=5.55,volume=1.0)"
   ]
  },
  {
   "cell_type": "code",
   "execution_count": null,
   "metadata": {},
   "outputs": [],
   "source": [
    "from local_contributor_config import problem_folder"
   ]
  },
  {
   "cell_type": "code",
   "execution_count": null,
   "metadata": {},
   "outputs": [],
   "source": [
    "N = int((t_end-t_0)/tau_grid)+1\n",
    "time_grid = np.linspace(start=t_0, stop=t_end, num=N)\n",
    "J_total_AA_ef = np.zeros(shape=(len(time_grid),),dtype=np.float32)\n",
    "J_total_Glu_ef = np.zeros(shape=(len(time_grid),),dtype=np.float32)\n",
    "J_total_TG_pl = np.zeros(shape=(len(time_grid),),dtype=np.float32)\n",
    "ddt_AA_ef = np.zeros(shape=(len(time_grid),),dtype=np.float32)\n",
    "ddt_Glu_ef = np.zeros(shape=(len(time_grid),),dtype=np.float32)\n",
    "ddt_TG_pl = np.zeros(shape=(len(time_grid),),dtype=np.float32)\n",
    "v_vec = np.zeros(shape=(len(time_grid),),dtype=np.float32)\n",
    "n_vec = np.zeros(shape=(len(time_grid),),dtype=np.float32)\n",
    "# fat_ch0 = np.zeros(shape=(len(time_grid),),dtype=np.float32)\n",
    "for i in tqdm(range(len(time_grid))):\n",
    "    # update values\n",
    "    J_s_prot.step(time_grid[i])\n",
    "    J_s_fat.step(time_grid[i])\n",
    "    J_s_carb.step(time_grid[i])\n",
    "    # get derivations\n",
    "    J_total_AA_ef[i] = J_s_prot.get_J(time_grid[i])\n",
    "    J_total_Glu_ef[i] = J_s_carb.get_J(time_grid[i])\n",
    "    J_total_TG_pl[i] = J_s_fat.get_J(time_grid[i])\n",
    "    ddt_AA_ef[i] = - J_s_prot.get_dJdt(time_grid[i])\n",
    "    ddt_Glu_ef[i] = - J_s_carb.get_dJdt(time_grid[i])\n",
    "    ddt_TG_pl[i] = - J_s_fat.get_dJdt(time_grid[i])\n",
    "    # fat_ch0[i] = J_s_fat.J_arr[0].get_J()"
   ]
  },
  {
   "cell_type": "code",
   "execution_count": null,
   "metadata": {},
   "outputs": [],
   "source": [
    "fig,ax = plt.subplots(nrows=3,ncols=1)\n",
    "fig.set_size_inches(10,9)\n",
    "ax[0].plot(time_grid,ddt_AA_ef)\n",
    "ax[1].plot(time_grid,ddt_Glu_ef)\n",
    "ax[2].plot(time_grid,ddt_TG_pl)\n",
    "fig2,ax2 = plt.subplots(nrows=3,ncols=1)\n",
    "fig2.set_size_inches(10,9)\n",
    "ax2[0].plot(time_grid,J_total_AA_ef)\n",
    "ax2[0].set_title(r'$AA_{in}$')\n",
    "ax2[1].plot(time_grid,J_total_Glu_ef)\n",
    "ax2[1].set_title(r'$Glu_{in}$')\n",
    "ax2[2].plot(time_grid,J_total_TG_pl)\n",
    "ax2[2].set_title(r'$TG_{in}$')"
   ]
  },
  {
   "cell_type": "code",
   "execution_count": null,
   "metadata": {},
   "outputs": [],
   "source": [
    "torch.save(\n",
    "    func_on_linear_grid(tau_grid,t_0,t_end, ddt_AA_ef), \n",
    "    os.path.join(problem_folder, 'ddt_AA_ef'))\n",
    "torch.save(\n",
    "    func_on_linear_grid(tau_grid,t_0,t_end, ddt_Glu_ef), \n",
    "    os.path.join(problem_folder, 'ddt_Glu_ef'))\n",
    "torch.save(\n",
    "    func_on_linear_grid(tau_grid,t_0,t_end, ddt_TG_pl), \n",
    "    os.path.join(problem_folder, 'ddt_TG_pl'))\n",
    "torch.save(\n",
    "    func_on_linear_grid(tau_grid,t_0,t_end, J_total_AA_ef), \n",
    "    os.path.join(problem_folder, 'J_prot'))\n",
    "torch.save(\n",
    "    func_on_linear_grid(tau_grid,t_0,t_end, J_total_Glu_ef), \n",
    "    os.path.join(problem_folder, 'J_carb'))\n",
    "torch.save(\n",
    "    func_on_linear_grid(tau_grid,t_0,t_end, J_total_TG_pl), \n",
    "    os.path.join(problem_folder, 'J_fat'))\n"
   ]
  }
 ],
 "metadata": {
  "kernelspec": {
   "display_name": "ml",
   "language": "python",
   "name": "ml"
  },
  "language_info": {
   "codemirror_mode": {
    "name": "ipython",
    "version": 3
   },
   "file_extension": ".py",
   "mimetype": "text/x-python",
   "name": "python",
   "nbconvert_exporter": "python",
   "pygments_lexer": "ipython3",
   "version": "3.11.5"
  },
  "orig_nbformat": 4
 },
 "nbformat": 4,
 "nbformat_minor": 2
}
